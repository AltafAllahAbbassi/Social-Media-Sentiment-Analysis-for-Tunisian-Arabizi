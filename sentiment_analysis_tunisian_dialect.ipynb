{
  "nbformat": 4,
  "nbformat_minor": 0,
  "metadata": {
    "colab": {
      "name": "sentiment analysis tunisian dialect.ipynb",
      "provenance": [],
      "collapsed_sections": [],
      "mount_file_id": "1O5nO8VMORrw8JHHNEGNz0XJfYvHMo60s",
      "authorship_tag": "ABX9TyPTNLyEjExKkWsae87U81hx",
      "include_colab_link": true
    },
    "kernelspec": {
      "name": "python3",
      "display_name": "Python 3"
    },
    "language_info": {
      "name": "python"
    }
  },
  "cells": [
    {
      "cell_type": "markdown",
      "metadata": {
        "id": "view-in-github",
        "colab_type": "text"
      },
      "source": [
        "<a href=\"https://colab.research.google.com/github/AltafAllahAbbassi/Social-Media-Sentiment-Analysis-for-Tunisian-Arabizi/blob/main/sentiment_analysis_tunisian_dialect.ipynb\" target=\"_parent\"><img src=\"https://colab.research.google.com/assets/colab-badge.svg\" alt=\"Open In Colab\"/></a>"
      ]
    },
    {
      "cell_type": "markdown",
      "metadata": {
        "id": "I1nnbaTN_j81"
      },
      "source": [
        "TSAC dataset (+:8854 ,-8215)\n",
        "<br>\n",
        "**Models:**\n",
        "\n",
        "*   Naive Bayes 68 %\n",
        "*   Logostic Regression 61 %\n",
        "*   Linear Support Vector 64 %\n",
        "*   SVM  67 %\n",
        "\n"
      ]
    },
    {
      "cell_type": "code",
      "metadata": {
        "id": "EvEj6cib_mHS"
      },
      "source": [
        "with open('/content/drive/MyDrive/sentiment analysis tunisian dialect/TSAC/train_pos.txt') as train_pos_f:\n",
        "    train_pos = train_pos_f.readlines()\n",
        "\n",
        "with open('/content/drive/MyDrive/sentiment analysis tunisian dialect/TSAC/train_neg.txt') as train_neg_f:\n",
        "    train_neg = train_neg_f.readlines()\n",
        "\n",
        "\n",
        "with open('/content/drive/MyDrive/sentiment analysis tunisian dialect/TSAC/test_pos.txt') as test_pos_f:\n",
        "    test_pos = test_pos_f.readlines()\n",
        "\n",
        "with open('/content/drive/MyDrive/sentiment analysis tunisian dialect/TSAC/test_neg.txt') as test_neg_f:\n",
        "    test_neg = test_neg_f.readlines()"
      ],
      "execution_count": 53,
      "outputs": []
    },
    {
      "cell_type": "code",
      "metadata": {
        "colab": {
          "base_uri": "https://localhost:8080/"
        },
        "id": "oF-bsrzZCZdg",
        "outputId": "cd1778c1-570a-44fe-d439-9390e427899e"
      },
      "source": [
        "print(len(train_pos))\n",
        "print(len(test_pos))\n",
        "print(len(train_neg))\n",
        "print(len(test_neg))"
      ],
      "execution_count": 54,
      "outputs": [
        {
          "output_type": "stream",
          "text": [
            "7154\n",
            "1700\n",
            "6515\n",
            "1700\n"
          ],
          "name": "stdout"
        }
      ]
    },
    {
      "cell_type": "code",
      "metadata": {
        "colab": {
          "base_uri": "https://localhost:8080/"
        },
        "id": "20qlJhT0DuGv",
        "outputId": "2d6f88d0-58e8-4266-b902-14e4429a42af"
      },
      "source": [
        "train_x = train_pos + train_neg\n",
        "test_x = test_pos + test_neg\n",
        "X = train_x + test_x\n",
        "print(len(train_x))\n",
        "print(len(test_x))\n"
      ],
      "execution_count": 74,
      "outputs": [
        {
          "output_type": "stream",
          "text": [
            "13669\n",
            "3400\n"
          ],
          "name": "stdout"
        }
      ]
    },
    {
      "cell_type": "code",
      "metadata": {
        "id": "7NwQ1FsjE0qG"
      },
      "source": [
        "train_pos_y = list(np.ones(7154, dtype=int))\n",
        "train_neg_y = list(np.zeros(6515, dtype=int))\n",
        "test_pos_y = list(np.ones(1700, dtype=int))\n",
        "test_neg_y = list(np.zeros(1700, dtype=int))\n",
        "\n",
        "train_y = train_neg_y + train_pos_y\n",
        "test_y = test_pos_y + test_neg_y \n",
        "Y = train_y + test_y"
      ],
      "execution_count": 75,
      "outputs": []
    },
    {
      "cell_type": "code",
      "metadata": {
        "id": "R7V1BpJpG3t9"
      },
      "source": [
        "x_train, x_test, y_train, y_test = train_test_split(X, Y, test_size=0.2, random_state = 42)\n"
      ],
      "execution_count": 76,
      "outputs": []
    },
    {
      "cell_type": "code",
      "metadata": {
        "colab": {
          "base_uri": "https://localhost:8080/"
        },
        "id": "_p83XDGMG_6H",
        "outputId": "1dd54168-c483-4bbd-eb39-c417b27b6975"
      },
      "source": [
        "nb = Pipeline([('vect', CountVectorizer()),\n",
        "               ('tfidf', TfidfTransformer()),\n",
        "               ('clf', MultinomialNB()),\n",
        "              ])\n",
        "nb.fit(x_train, y_train)\n",
        "y_pred = nb.predict(x_test)\n",
        "\n",
        "print('accuracy %s' % accuracy_score(y_pred, y_test))\n",
        "print(classification_report(y_test, y_pred, digits=5))"
      ],
      "execution_count": 77,
      "outputs": [
        {
          "output_type": "stream",
          "text": [
            "accuracy 0.68804920913884\n",
            "              precision    recall  f1-score   support\n",
            "\n",
            "           0    0.69141   0.64247   0.66604      1653\n",
            "           1    0.68530   0.73083   0.70734      1761\n",
            "\n",
            "    accuracy                        0.68805      3414\n",
            "   macro avg    0.68835   0.68665   0.68669      3414\n",
            "weighted avg    0.68826   0.68805   0.68734      3414\n",
            "\n"
          ],
          "name": "stdout"
        }
      ]
    },
    {
      "cell_type": "code",
      "metadata": {
        "colab": {
          "base_uri": "https://localhost:8080/"
        },
        "id": "PV9HoWS4KsPe",
        "outputId": "b0ed4b36-3a31-4e19-fdf5-cf0ede44b401"
      },
      "source": [
        "logreg = Pipeline([('vect',CountVectorizer()),\n",
        "                ('tfidf', TfidfTransformer()),\n",
        "                ('clf', LogisticRegression(n_jobs=1, C=1e5)),\n",
        "               ])\n",
        "logreg.fit(x_train, y_train)\n",
        "y_pred = logreg.predict(x_test)\n",
        "\n",
        "print('accuracy %s' % accuracy_score(y_pred, y_test))\n",
        "print(classification_report(y_test, y_pred, digits=5))"
      ],
      "execution_count": 78,
      "outputs": [
        {
          "output_type": "stream",
          "text": [
            "accuracy 0.6136496777973052\n",
            "              precision    recall  f1-score   support\n",
            "\n",
            "           0    0.59267   0.64610   0.61823      1653\n",
            "           1    0.63710   0.58319   0.60895      1761\n",
            "\n",
            "    accuracy                        0.61365      3414\n",
            "   macro avg    0.61489   0.61464   0.61359      3414\n",
            "weighted avg    0.61559   0.61365   0.61345      3414\n",
            "\n"
          ],
          "name": "stdout"
        },
        {
          "output_type": "stream",
          "text": [
            "/usr/local/lib/python3.7/dist-packages/sklearn/linear_model/_logistic.py:940: ConvergenceWarning: lbfgs failed to converge (status=1):\n",
            "STOP: TOTAL NO. of ITERATIONS REACHED LIMIT.\n",
            "\n",
            "Increase the number of iterations (max_iter) or scale the data as shown in:\n",
            "    https://scikit-learn.org/stable/modules/preprocessing.html\n",
            "Please also refer to the documentation for alternative solver options:\n",
            "    https://scikit-learn.org/stable/modules/linear_model.html#logistic-regression\n",
            "  extra_warning_msg=_LOGISTIC_SOLVER_CONVERGENCE_MSG)\n"
          ],
          "name": "stderr"
        }
      ]
    },
    {
      "cell_type": "code",
      "metadata": {
        "colab": {
          "base_uri": "https://localhost:8080/"
        },
        "id": "AhxyWSGVLRDH",
        "outputId": "5db7931d-0fef-40de-c8f1-a2d1a26591fa"
      },
      "source": [
        "sgd = Pipeline([('vect', CountVectorizer()),\n",
        "                ('tfidf', TfidfTransformer()),\n",
        "                ('clf', SGDClassifier(loss='log', penalty='l2',alpha=1e-3, random_state=42, max_iter=5, tol=None)),\n",
        "               ])\n",
        "sgd.fit(x_train, y_train)\n",
        "\n",
        "y_pred = sgd.predict(x_test)\n",
        "\n",
        "print('accuracy %s' % accuracy_score(y_pred, y_test))\n",
        "print(classification_report(y_test, y_pred, digits=5))"
      ],
      "execution_count": 79,
      "outputs": [
        {
          "output_type": "stream",
          "text": [
            "accuracy 0.6467486818980668\n",
            "              precision    recall  f1-score   support\n",
            "\n",
            "           0    0.72239   0.43920   0.54628      1653\n",
            "           1    0.61519   0.84157   0.71079      1761\n",
            "\n",
            "    accuracy                        0.64675      3414\n",
            "   macro avg    0.66879   0.64038   0.62853      3414\n",
            "weighted avg    0.66710   0.64675   0.63114      3414\n",
            "\n"
          ],
          "name": "stdout"
        }
      ]
    },
    {
      "cell_type": "code",
      "metadata": {
        "colab": {
          "base_uri": "https://localhost:8080/"
        },
        "id": "9IxjHZgtNflQ",
        "outputId": "cc92233e-ddc6-45ae-f624-29869cf5d117"
      },
      "source": [
        "svc = Pipeline([('vect', CountVectorizer()),\n",
        "               ('tfidf', TfidfTransformer()),\n",
        "               ('clf', SVC(probability=True)),\n",
        "               \n",
        "              ])\n",
        "svc.fit(x_train, y_train)\n",
        "\n",
        "y_pred = svc.predict(x_test)\n",
        "\n",
        "print('accuracy %s' % accuracy_score(y_pred, y_test))\n",
        "print(classification_report(y_test, y_pred, digits=5))"
      ],
      "execution_count": 80,
      "outputs": [
        {
          "output_type": "stream",
          "text": [
            "accuracy 0.6789689513766842\n",
            "              precision    recall  f1-score   support\n",
            "\n",
            "           0    0.67266   0.65638   0.66442      1653\n",
            "           1    0.68462   0.70017   0.69231      1761\n",
            "\n",
            "    accuracy                        0.67897      3414\n",
            "   macro avg    0.67864   0.67828   0.67836      3414\n",
            "weighted avg    0.67883   0.67897   0.67881      3414\n",
            "\n"
          ],
          "name": "stdout"
        }
      ]
    },
    {
      "cell_type": "markdown",
      "metadata": {
        "id": "8GTVx9QoNmLR"
      },
      "source": [
        "TSAC + somme review from google maps (scrapped from tunisian restaurants) (+:8215,-10332)\n",
        "<br>\n",
        "**Models:**\n",
        "\n",
        "*   Naive Bayes 90 %\n",
        "*   Logostic Regression 89 %\n",
        "*   Linear Support Vector 82 %\n",
        "*   SVM  90 %\n"
      ]
    },
    {
      "cell_type": "code",
      "metadata": {
        "id": "9A5-vOLP4w3e"
      },
      "source": [
        "import csv\n",
        "import pandas as pd\n",
        "import re\n",
        "import numpy as np\n"
      ],
      "execution_count": 34,
      "outputs": []
    },
    {
      "cell_type": "code",
      "metadata": {
        "colab": {
          "base_uri": "https://localhost:8080/",
          "height": 221
        },
        "id": "VEiPoc555MFf",
        "outputId": "edea9f62-76f4-4d2c-f6d8-c5fdf7812506"
      },
      "source": [
        "data = pd.read_csv(\"/content/drive/MyDrive/sentiment analysis tunisian dialect/final_data.csv\",encoding='utf-8')\n",
        "print(len(data))\n",
        "data.head()\n"
      ],
      "execution_count": 35,
      "outputs": [
        {
          "output_type": "stream",
          "text": [
            "20299\n"
          ],
          "name": "stdout"
        },
        {
          "output_type": "execute_result",
          "data": {
            "text/html": [
              "<div>\n",
              "<style scoped>\n",
              "    .dataframe tbody tr th:only-of-type {\n",
              "        vertical-align: middle;\n",
              "    }\n",
              "\n",
              "    .dataframe tbody tr th {\n",
              "        vertical-align: top;\n",
              "    }\n",
              "\n",
              "    .dataframe thead th {\n",
              "        text-align: right;\n",
              "    }\n",
              "</style>\n",
              "<table border=\"1\" class=\"dataframe\">\n",
              "  <thead>\n",
              "    <tr style=\"text-align: right;\">\n",
              "      <th></th>\n",
              "      <th>Unnamed: 0</th>\n",
              "      <th>text</th>\n",
              "      <th>intents</th>\n",
              "    </tr>\n",
              "  </thead>\n",
              "  <tbody>\n",
              "    <tr>\n",
              "      <th>0</th>\n",
              "      <td>0</td>\n",
              "      <td>0000000000000000000 nulle</td>\n",
              "      <td>0</td>\n",
              "    </tr>\n",
              "    <tr>\n",
              "      <th>1</th>\n",
              "      <td>1</td>\n",
              "      <td>marzen mleyektou</td>\n",
              "      <td>0</td>\n",
              "    </tr>\n",
              "    <tr>\n",
              "      <th>2</th>\n",
              "      <td>2</td>\n",
              "      <td>يا سي امين ممسطك وليت والله بففففففففففف</td>\n",
              "      <td>0</td>\n",
              "    </tr>\n",
              "    <tr>\n",
              "      <th>3</th>\n",
              "      <td>3</td>\n",
              "      <td>M3alem hhhhhhh</td>\n",
              "      <td>1</td>\n",
              "    </tr>\n",
              "    <tr>\n",
              "      <th>4</th>\n",
              "      <td>4</td>\n",
              "      <td>عسل حسين عسل</td>\n",
              "      <td>1</td>\n",
              "    </tr>\n",
              "  </tbody>\n",
              "</table>\n",
              "</div>"
            ],
            "text/plain": [
              "   Unnamed: 0                                      text  intents\n",
              "0           0                 0000000000000000000 nulle        0\n",
              "1           1                          marzen mleyektou        0\n",
              "2           2  يا سي امين ممسطك وليت والله بففففففففففف        0\n",
              "3           3                            M3alem hhhhhhh        1\n",
              "4           4                              عسل حسين عسل        1"
            ]
          },
          "metadata": {
            "tags": []
          },
          "execution_count": 35
        }
      ]
    },
    {
      "cell_type": "code",
      "metadata": {
        "colab": {
          "base_uri": "https://localhost:8080/"
        },
        "id": "RoXmB3C08NKT",
        "outputId": "b6ac859e-70df-4eb3-b147-8296934ba6d7"
      },
      "source": [
        "texts=data[\"text\"]\n",
        "intents=data[\"intents\"]"
      ],
      "execution_count": 28,
      "outputs": [
        {
          "output_type": "execute_result",
          "data": {
            "text/plain": [
              "str"
            ]
          },
          "metadata": {
            "tags": []
          },
          "execution_count": 28
        }
      ]
    },
    {
      "cell_type": "code",
      "metadata": {
        "id": "czcGtvh97AIF"
      },
      "source": [
        "positives=[]\n",
        "negatives=[]\n",
        "\n",
        "for i in range(len(texts)):\n",
        "  if (intents[i]==0):\n",
        "    negatives.append(texts[i])\n",
        "  else :\n",
        "    positives.append(texts[i])\n",
        "\n",
        "\n"
      ],
      "execution_count": 31,
      "outputs": []
    },
    {
      "cell_type": "code",
      "metadata": {
        "colab": {
          "base_uri": "https://localhost:8080/"
        },
        "id": "do--k9U-c2ZF",
        "outputId": "5762eb6c-74b2-490b-9d8d-9589126a9be3"
      },
      "source": [
        "print(len(positives))\n",
        "print(len(negatives))"
      ],
      "execution_count": 110,
      "outputs": [
        {
          "output_type": "stream",
          "text": [
            "9967\n",
            "10332\n"
          ],
          "name": "stdout"
        }
      ]
    },
    {
      "cell_type": "code",
      "metadata": {
        "colab": {
          "base_uri": "https://localhost:8080/"
        },
        "id": "IyNANtxC7t77",
        "outputId": "16b80e50-9902-4f12-a1b6-32f5ffab1a52"
      },
      "source": [
        "#balanced dataset \n",
        "print(\"Instance number\",len(data))\n",
        "print(\"Positive samples\",len(positives))\n",
        "print(\"Negative samples\", len(negatives))"
      ],
      "execution_count": 33,
      "outputs": [
        {
          "output_type": "stream",
          "text": [
            "Instance number 20299\n",
            "Positive samples 9967\n",
            "Negative samples 10332\n"
          ],
          "name": "stdout"
        }
      ]
    },
    {
      "cell_type": "code",
      "metadata": {
        "colab": {
          "base_uri": "https://localhost:8080/"
        },
        "id": "ih8Hf57FpWrk",
        "outputId": "4ea048ef-b66a-4860-88a7-5e51459f862e"
      },
      "source": [
        "from sklearn.model_selection import train_test_split\n",
        "from sklearn.pipeline import Pipeline\n",
        "from sklearn.feature_extraction.text import CountVectorizer,TfidfTransformer\n",
        "\n",
        "from sklearn.naive_bayes import MultinomialNB\n",
        "from sklearn.linear_model import LogisticRegression\n",
        "from sklearn.linear_model import SGDClassifier\n",
        "from sklearn.svm import SVC\n",
        "from sklearn.metrics import accuracy_score, classification_report\n",
        "\n",
        "x_train, x_test, y_train, y_test = train_test_split(texts, intents, test_size=0.2, random_state = 42)\n",
        "print(len(x_train))\n",
        "print(len(x_test))"
      ],
      "execution_count": 39,
      "outputs": [
        {
          "output_type": "stream",
          "text": [
            "16239\n",
            "4060\n"
          ],
          "name": "stdout"
        }
      ]
    },
    {
      "cell_type": "code",
      "metadata": {
        "colab": {
          "base_uri": "https://localhost:8080/"
        },
        "id": "6FmwuqNz-Qgn",
        "outputId": "7929a9c6-5d95-4df1-cc25-0e99ef08c292"
      },
      "source": [
        "nb = Pipeline([('vect', CountVectorizer()),\n",
        "               ('tfidf', TfidfTransformer()),\n",
        "               ('clf', MultinomialNB()),\n",
        "              ])\n",
        "nb.fit(x_train, y_train)\n",
        "y_pred = nb.predict(x_test)\n",
        "\n",
        "print('accuracy %s' % accuracy_score(y_pred, y_test))\n",
        "print(classification_report(y_test, y_pred, digits=5))"
      ],
      "execution_count": 41,
      "outputs": [
        {
          "output_type": "stream",
          "text": [
            "accuracy 0.9091133004926109\n",
            "              precision    recall  f1-score   support\n",
            "\n",
            "           0    0.89770   0.92983   0.91348      2095\n",
            "           1    0.92222   0.88702   0.90428      1965\n",
            "\n",
            "    accuracy                        0.90911      4060\n",
            "   macro avg    0.90996   0.90843   0.90888      4060\n",
            "weighted avg    0.90957   0.90911   0.90903      4060\n",
            "\n"
          ],
          "name": "stdout"
        }
      ]
    },
    {
      "cell_type": "code",
      "metadata": {
        "colab": {
          "base_uri": "https://localhost:8080/"
        },
        "id": "LNQBlzZY-bMB",
        "outputId": "bbfe7516-878d-415c-848a-795c01e014c6"
      },
      "source": [
        "logreg = Pipeline([('vect',CountVectorizer()),\n",
        "                ('tfidf', TfidfTransformer()),\n",
        "                ('clf', LogisticRegression(n_jobs=1, C=1e5)),\n",
        "               ])\n",
        "logreg.fit(x_train, y_train)\n",
        "y_pred = logreg.predict(x_test)\n",
        "\n",
        "print('accuracy %s' % accuracy_score(y_pred, y_test))\n",
        "print(classification_report(y_test, y_pred, digits=5))"
      ],
      "execution_count": 42,
      "outputs": [
        {
          "output_type": "stream",
          "text": [
            "accuracy 0.8906403940886699\n",
            "              precision    recall  f1-score   support\n",
            "\n",
            "           0    0.88059   0.91169   0.89587      2095\n",
            "           1    0.90217   0.86819   0.88485      1965\n",
            "\n",
            "    accuracy                        0.89064      4060\n",
            "   macro avg    0.89138   0.88994   0.89036      4060\n",
            "weighted avg    0.89103   0.89064   0.89054      4060\n",
            "\n"
          ],
          "name": "stdout"
        },
        {
          "output_type": "stream",
          "text": [
            "/usr/local/lib/python3.7/dist-packages/sklearn/linear_model/_logistic.py:940: ConvergenceWarning: lbfgs failed to converge (status=1):\n",
            "STOP: TOTAL NO. of ITERATIONS REACHED LIMIT.\n",
            "\n",
            "Increase the number of iterations (max_iter) or scale the data as shown in:\n",
            "    https://scikit-learn.org/stable/modules/preprocessing.html\n",
            "Please also refer to the documentation for alternative solver options:\n",
            "    https://scikit-learn.org/stable/modules/linear_model.html#logistic-regression\n",
            "  extra_warning_msg=_LOGISTIC_SOLVER_CONVERGENCE_MSG)\n"
          ],
          "name": "stderr"
        }
      ]
    },
    {
      "cell_type": "code",
      "metadata": {
        "colab": {
          "base_uri": "https://localhost:8080/"
        },
        "id": "gqEa7hS5-gUI",
        "outputId": "9c09dd83-52ed-4cd5-c62a-7ab7d047fa95"
      },
      "source": [
        "sgd = Pipeline([('vect', CountVectorizer()),\n",
        "                ('tfidf', TfidfTransformer()),\n",
        "                ('clf', SGDClassifier(loss='log', penalty='l2',alpha=1e-3, random_state=42, max_iter=5, tol=None)),\n",
        "               ])\n",
        "sgd.fit(x_train, y_train)\n",
        "\n",
        "y_pred = sgd.predict(x_test)\n",
        "\n",
        "print('accuracy %s' % accuracy_score(y_pred, y_test))\n",
        "print(classification_report(y_test, y_pred, digits=5))"
      ],
      "execution_count": 43,
      "outputs": [
        {
          "output_type": "stream",
          "text": [
            "accuracy 0.8246305418719212\n",
            "              precision    recall  f1-score   support\n",
            "\n",
            "           0    0.76065   0.96325   0.85004      2095\n",
            "           1    0.94527   0.67684   0.78885      1965\n",
            "\n",
            "    accuracy                        0.82463      4060\n",
            "   macro avg    0.85296   0.82005   0.81945      4060\n",
            "weighted avg    0.85001   0.82463   0.82043      4060\n",
            "\n"
          ],
          "name": "stdout"
        }
      ]
    },
    {
      "cell_type": "code",
      "metadata": {
        "colab": {
          "base_uri": "https://localhost:8080/"
        },
        "id": "yf0PAV-i-lp_",
        "outputId": "54a28925-b4b8-4c4b-c995-0cbef3a5a6e7"
      },
      "source": [
        "svc = Pipeline([('vect', CountVectorizer()),\n",
        "               ('tfidf', TfidfTransformer()),\n",
        "               ('clf', SVC(probability=True)),\n",
        "               \n",
        "              ])\n",
        "svc.fit(x_train, y_train)\n",
        "\n",
        "y_pred = svc.predict(x_test)\n",
        "\n",
        "print('accuracy %s' % accuracy_score(y_pred, y_test))\n",
        "print(classification_report(y_test, y_pred, digits=5))"
      ],
      "execution_count": 44,
      "outputs": [
        {
          "output_type": "stream",
          "text": [
            "accuracy 0.9014778325123153\n",
            "              precision    recall  f1-score   support\n",
            "\n",
            "           0    0.86993   0.95131   0.90880      2095\n",
            "           1    0.94234   0.84835   0.89288      1965\n",
            "\n",
            "    accuracy                        0.90148      4060\n",
            "   macro avg    0.90613   0.89983   0.90084      4060\n",
            "weighted avg    0.90497   0.90148   0.90109      4060\n",
            "\n"
          ],
          "name": "stdout"
        }
      ]
    },
    {
      "cell_type": "markdown",
      "metadata": {
        "id": "VSnNYACITAOn"
      },
      "source": [
        "TUNIZI-Sentiment-Analysis-Tunisian-Arabizi-Dataset\n",
        "3000(+,-)\n",
        "**Models:**\n",
        "\n",
        "*   Naive Bayes 75 %\n",
        "*   Logostic Regression 72 %\n",
        "*   Linear Support Vector 73 %\n",
        "*   SVM  73 %\n"
      ]
    },
    {
      "cell_type": "code",
      "metadata": {
        "colab": {
          "base_uri": "https://localhost:8080/",
          "height": 204
        },
        "id": "kGzSxmiITb0_",
        "outputId": "1ebcfd7f-b9e2-4d3e-d441-c3cc1e8ab6ea"
      },
      "source": [
        "TUNIZI_data = pd.read_csv(\"/content/drive/MyDrive/sentiment analysis tunisian dialect/TUNIZI-Dataset.csv\",encoding='utf-8', engine='python',sep=\";\",names=[\"label\",\"text\"])\n",
        "X_TUNIZI = TUNIZI_data[\"text\"].values.astype('U')\n",
        "Y_TUNIZI = TUNIZI_data[\"label\"]\n",
        "TUNIZI_data.head()\n"
      ],
      "execution_count": 102,
      "outputs": [
        {
          "output_type": "execute_result",
          "data": {
            "text/html": [
              "<div>\n",
              "<style scoped>\n",
              "    .dataframe tbody tr th:only-of-type {\n",
              "        vertical-align: middle;\n",
              "    }\n",
              "\n",
              "    .dataframe tbody tr th {\n",
              "        vertical-align: top;\n",
              "    }\n",
              "\n",
              "    .dataframe thead th {\n",
              "        text-align: right;\n",
              "    }\n",
              "</style>\n",
              "<table border=\"1\" class=\"dataframe\">\n",
              "  <thead>\n",
              "    <tr style=\"text-align: right;\">\n",
              "      <th></th>\n",
              "      <th>label</th>\n",
              "      <th>text</th>\n",
              "    </tr>\n",
              "  </thead>\n",
              "  <tbody>\n",
              "    <tr>\n",
              "      <th>0</th>\n",
              "      <td>1</td>\n",
              "      <td>ana fil ghorba w sout el athan ahla haja 3ijbi...</td>\n",
              "    </tr>\n",
              "    <tr>\n",
              "      <th>1</th>\n",
              "      <td>1</td>\n",
              "      <td>man eheb rasoule mohamed</td>\n",
              "    </tr>\n",
              "    <tr>\n",
              "      <th>2</th>\n",
              "      <td>1</td>\n",
              "      <td>rabi yerhmou sofiane cha3ri</td>\n",
              "    </tr>\n",
              "    <tr>\n",
              "      <th>3</th>\n",
              "      <td>1</td>\n",
              "      <td>rabi yarahmak ya sbou3i wou yarham kol om mita</td>\n",
              "    </tr>\n",
              "    <tr>\n",
              "      <th>4</th>\n",
              "      <td>1</td>\n",
              "      <td>merci beaucoup salime</td>\n",
              "    </tr>\n",
              "  </tbody>\n",
              "</table>\n",
              "</div>"
            ],
            "text/plain": [
              "   label                                               text\n",
              "0      1  ana fil ghorba w sout el athan ahla haja 3ijbi...\n",
              "1      1                           man eheb rasoule mohamed\n",
              "2      1                        rabi yerhmou sofiane cha3ri\n",
              "3      1     rabi yarahmak ya sbou3i wou yarham kol om mita\n",
              "4      1                              merci beaucoup salime"
            ]
          },
          "metadata": {
            "tags": []
          },
          "execution_count": 102
        }
      ]
    },
    {
      "cell_type": "code",
      "metadata": {
        "colab": {
          "base_uri": "https://localhost:8080/"
        },
        "id": "D2oXIH2vV2cA",
        "outputId": "394cd834-2694-4463-c649-191abcbce466"
      },
      "source": [
        "print(len(X_TUNIZI))"
      ],
      "execution_count": 103,
      "outputs": [
        {
          "output_type": "stream",
          "text": [
            "3000\n"
          ],
          "name": "stdout"
        }
      ]
    },
    {
      "cell_type": "code",
      "metadata": {
        "id": "DwlMAH5EU25G"
      },
      "source": [
        "x_train, x_test, y_train, y_test = train_test_split(X_TUNIZI, Y_TUNIZI, test_size=0.2, random_state = 42)"
      ],
      "execution_count": 104,
      "outputs": []
    },
    {
      "cell_type": "code",
      "metadata": {
        "colab": {
          "base_uri": "https://localhost:8080/"
        },
        "id": "PalfAa1fVAXh",
        "outputId": "03e5737b-c27f-453e-dfd3-598301674910"
      },
      "source": [
        "nb = Pipeline([('vect', CountVectorizer()),\n",
        "               ('tfidf', TfidfTransformer()),\n",
        "               ('clf', MultinomialNB()),\n",
        "              ])\n",
        "nb.fit(x_train, y_train)\n",
        "y_pred = nb.predict(x_test)\n",
        "\n",
        "print('accuracy %s' % accuracy_score(y_pred, y_test))\n",
        "print(classification_report(y_test, y_pred, digits=5))"
      ],
      "execution_count": 105,
      "outputs": [
        {
          "output_type": "stream",
          "text": [
            "accuracy 0.7533333333333333\n",
            "              precision    recall  f1-score   support\n",
            "\n",
            "          -1    0.70381   0.83624   0.76433       287\n",
            "           1    0.81853   0.67732   0.74126       313\n",
            "\n",
            "    accuracy                        0.75333       600\n",
            "   macro avg    0.76117   0.75678   0.75279       600\n",
            "weighted avg    0.76366   0.75333   0.75230       600\n",
            "\n"
          ],
          "name": "stdout"
        }
      ]
    },
    {
      "cell_type": "code",
      "metadata": {
        "colab": {
          "base_uri": "https://localhost:8080/"
        },
        "id": "CkOiKmUiVDKN",
        "outputId": "80731f93-a26d-4035-d0e0-a7bc8d62dd21"
      },
      "source": [
        "logreg = Pipeline([('vect',CountVectorizer()),\n",
        "                ('tfidf', TfidfTransformer()),\n",
        "                ('clf', LogisticRegression(n_jobs=1, C=1e5)),\n",
        "               ])\n",
        "logreg.fit(x_train, y_train)\n",
        "y_pred = logreg.predict(x_test)\n",
        "\n",
        "print('accuracy %s' % accuracy_score(y_pred, y_test))\n",
        "print(classification_report(y_test, y_pred, digits=5))"
      ],
      "execution_count": 106,
      "outputs": [
        {
          "output_type": "stream",
          "text": [
            "accuracy 0.7266666666666667\n",
            "              precision    recall  f1-score   support\n",
            "\n",
            "          -1    0.68807   0.78397   0.73290       287\n",
            "           1    0.77289   0.67412   0.72014       313\n",
            "\n",
            "    accuracy                        0.72667       600\n",
            "   macro avg    0.73048   0.72905   0.72652       600\n",
            "weighted avg    0.73232   0.72667   0.72624       600\n",
            "\n"
          ],
          "name": "stdout"
        },
        {
          "output_type": "stream",
          "text": [
            "/usr/local/lib/python3.7/dist-packages/sklearn/linear_model/_logistic.py:940: ConvergenceWarning: lbfgs failed to converge (status=1):\n",
            "STOP: TOTAL NO. of ITERATIONS REACHED LIMIT.\n",
            "\n",
            "Increase the number of iterations (max_iter) or scale the data as shown in:\n",
            "    https://scikit-learn.org/stable/modules/preprocessing.html\n",
            "Please also refer to the documentation for alternative solver options:\n",
            "    https://scikit-learn.org/stable/modules/linear_model.html#logistic-regression\n",
            "  extra_warning_msg=_LOGISTIC_SOLVER_CONVERGENCE_MSG)\n"
          ],
          "name": "stderr"
        }
      ]
    },
    {
      "cell_type": "code",
      "metadata": {
        "colab": {
          "base_uri": "https://localhost:8080/"
        },
        "id": "DWe0XzpFVGI4",
        "outputId": "42dc13ef-9f46-4869-bc0c-94b1c5fcf950"
      },
      "source": [
        "logreg = Pipeline([('vect',CountVectorizer()),\n",
        "                ('tfidf', TfidfTransformer()),\n",
        "                ('clf', LogisticRegression(n_jobs=1, C=1e5)),\n",
        "               ])\n",
        "logreg.fit(x_train, y_train)\n",
        "y_pred = logreg.predict(x_test)\n",
        "\n",
        "print('accuracy %s' % accuracy_score(y_pred, y_test))\n",
        "print(classification_report(y_test, y_pred, digits=5))"
      ],
      "execution_count": 107,
      "outputs": [
        {
          "output_type": "stream",
          "text": [
            "accuracy 0.7266666666666667\n",
            "              precision    recall  f1-score   support\n",
            "\n",
            "          -1    0.68807   0.78397   0.73290       287\n",
            "           1    0.77289   0.67412   0.72014       313\n",
            "\n",
            "    accuracy                        0.72667       600\n",
            "   macro avg    0.73048   0.72905   0.72652       600\n",
            "weighted avg    0.73232   0.72667   0.72624       600\n",
            "\n"
          ],
          "name": "stdout"
        },
        {
          "output_type": "stream",
          "text": [
            "/usr/local/lib/python3.7/dist-packages/sklearn/linear_model/_logistic.py:940: ConvergenceWarning: lbfgs failed to converge (status=1):\n",
            "STOP: TOTAL NO. of ITERATIONS REACHED LIMIT.\n",
            "\n",
            "Increase the number of iterations (max_iter) or scale the data as shown in:\n",
            "    https://scikit-learn.org/stable/modules/preprocessing.html\n",
            "Please also refer to the documentation for alternative solver options:\n",
            "    https://scikit-learn.org/stable/modules/linear_model.html#logistic-regression\n",
            "  extra_warning_msg=_LOGISTIC_SOLVER_CONVERGENCE_MSG)\n"
          ],
          "name": "stderr"
        }
      ]
    },
    {
      "cell_type": "code",
      "metadata": {
        "colab": {
          "base_uri": "https://localhost:8080/"
        },
        "id": "YmIVtIGnb-6l",
        "outputId": "be750873-4cb9-410e-aaa9-88e006d9b906"
      },
      "source": [
        "sgd = Pipeline([('vect', CountVectorizer()),\n",
        "                ('tfidf', TfidfTransformer()),\n",
        "                ('clf', SGDClassifier(loss='log', penalty='l2',alpha=1e-3, random_state=42, max_iter=5, tol=None)),\n",
        "               ])\n",
        "sgd.fit(x_train, y_train)\n",
        "\n",
        "y_pred = sgd.predict(x_test)\n",
        "\n",
        "print('accuracy %s' % accuracy_score(y_pred, y_test))\n",
        "print(classification_report(y_test, y_pred, digits=5))"
      ],
      "execution_count": 109,
      "outputs": [
        {
          "output_type": "stream",
          "text": [
            "accuracy 0.7383333333333333\n",
            "              precision    recall  f1-score   support\n",
            "\n",
            "          -1    0.70968   0.76655   0.73702       287\n",
            "           1    0.76897   0.71246   0.73964       313\n",
            "\n",
            "    accuracy                        0.73833       600\n",
            "   macro avg    0.73932   0.73951   0.73833       600\n",
            "weighted avg    0.74061   0.73833   0.73838       600\n",
            "\n"
          ],
          "name": "stdout"
        }
      ]
    },
    {
      "cell_type": "code",
      "metadata": {
        "colab": {
          "base_uri": "https://localhost:8080/"
        },
        "id": "9dOHxHWKVIg3",
        "outputId": "4527a638-17fe-41b0-fe16-f747ae14433f"
      },
      "source": [
        "svc = Pipeline([('vect', CountVectorizer()),\n",
        "               ('tfidf', TfidfTransformer()),\n",
        "               ('clf', SVC(probability=True)),\n",
        "               \n",
        "              ])\n",
        "svc.fit(x_train, y_train)\n",
        "\n",
        "y_pred = svc.predict(x_test)\n",
        "\n",
        "print('accuracy %s' % accuracy_score(y_pred, y_test))\n",
        "print(classification_report(y_test, y_pred, digits=5))"
      ],
      "execution_count": 108,
      "outputs": [
        {
          "output_type": "stream",
          "text": [
            "accuracy 0.7333333333333333\n",
            "              precision    recall  f1-score   support\n",
            "\n",
            "          -1    0.68513   0.81882   0.74603       287\n",
            "           1    0.79767   0.65495   0.71930       313\n",
            "\n",
            "    accuracy                        0.73333       600\n",
            "   macro avg    0.74140   0.73688   0.73266       600\n",
            "weighted avg    0.74384   0.73333   0.73209       600\n",
            "\n"
          ],
          "name": "stdout"
        }
      ]
    }
  ]
}